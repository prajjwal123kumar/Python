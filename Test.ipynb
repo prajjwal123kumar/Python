{
 "cells": [
  {
   "cell_type": "code",
   "execution_count": 1,
   "metadata": {},
   "outputs": [
    {
     "name": "stdout",
     "output_type": "stream",
     "text": [
      "[50, 20, 30, 40, 10]\n"
     ]
    }
   ],
   "source": [
    "# 1.wap to interchange first and last element in list\n",
    "x=[10,20,30,40,50]\n",
    "temp=x[0]\n",
    "x[0]=x[4]\n",
    "x[4]=temp\n",
    "print(x)"
   ]
  },
  {
   "cell_type": "code",
   "execution_count": 3,
   "metadata": {},
   "outputs": [
    {
     "name": "stdout",
     "output_type": "stream",
     "text": [
      "[4, 2, 3, 1]\n"
     ]
    }
   ],
   "source": [
    "# 2. Wap to swap two elements in a list\n",
    "# x=[10,20]\n",
    "# temp=x[0]\n",
    "# x[0]=x[1]\n",
    "# x[1]=temp\n",
    "# print(x)\n",
    "\n",
    "\n",
    "\n",
    "def swap(x):\n",
    "    x[0],x[-1]=x[-1],x[0]\n",
    "    return x\n",
    "x=[1,2,3,4]\n",
    "print(swap(x))\n"
   ]
  },
  {
   "cell_type": "code",
   "execution_count": 82,
   "metadata": {},
   "outputs": [
    {
     "name": "stdout",
     "output_type": "stream",
     "text": [
      "Length of List is = 6\n"
     ]
    }
   ],
   "source": [
    "# 3.Wap in python to find length of list\n",
    "x=[10,20,30,40,50,60]\n",
    "print(\"Length of List is =\",len(x))"
   ]
  },
  {
   "cell_type": "code",
   "execution_count": 19,
   "metadata": {},
   "outputs": [
    {
     "name": "stdout",
     "output_type": "stream",
     "text": [
      "Maximum No. of List = 50\n"
     ]
    }
   ],
   "source": [
    "# 4. Wap to find maximum no. of list\n",
    "x=[10,20,30,40,50]\n",
    "max=x[0]\n",
    "for i in x:\n",
    "    if(i>max):\n",
    "        max=i \n",
    "print(\"Maximum No. of List =\",max)\n",
    "\n"
   ]
  },
  {
   "cell_type": "code",
   "execution_count": 20,
   "metadata": {},
   "outputs": [
    {
     "name": "stdout",
     "output_type": "stream",
     "text": [
      "Minimun No. of List = 10\n"
     ]
    }
   ],
   "source": [
    "# 5. Wap to find minimum no. of list\n",
    "x=[10,20,30,40,50]\n",
    "min=x[0]\n",
    "for i in x:\n",
    "    if(i<min):\n",
    "        min=i \n",
    "print(\"Minimun No. of List =\",min)"
   ]
  },
  {
   "cell_type": "code",
   "execution_count": 27,
   "metadata": {},
   "outputs": [
    {
     "name": "stdout",
     "output_type": "stream",
     "text": [
      "mom is Palindrom.\n"
     ]
    }
   ],
   "source": [
    "# 6. Wap to check  whether the string is palindrom.\n",
    "# s=input(\"Enter a letter : \")\n",
    "# if(s==s[::-1]):\n",
    "#     print(s,\"is Palindrome.\")\n",
    "# else:\n",
    "#     print(s,\"is not Palindrome.\")\n",
    "a=input(\"Enter a letter\")\n",
    "x=len(a)-1\n",
    "z=\"\"\n",
    "while (x>=0):\n",
    "    z+=a[x]\n",
    "    x=x-1\n",
    "if(a==z):\n",
    "    print(z,\"is Palindrom.\")\n",
    "else:\n",
    "    print(z,\"is not Palindrom.\")\n"
   ]
  },
  {
   "cell_type": "code",
   "execution_count": 4,
   "metadata": {},
   "outputs": [
    {
     "name": "stdout",
     "output_type": "stream",
     "text": [
      "Reverse String is = lawjjarP\n"
     ]
    }
   ],
   "source": [
    "# 7.wap reverse words in a given string in python\n",
    "a=\"Prajjwal\"\n",
    "print(\"Reverse String is =\",a[::-1])"
   ]
  },
  {
   "cell_type": "code",
   "execution_count": 7,
   "metadata": {},
   "outputs": [
    {
     "name": "stdout",
     "output_type": "stream",
     "text": [
      "Remove one caharacter form string = CETP\n"
     ]
    },
    {
     "data": {
      "text/plain": [
       "'CET'"
      ]
     },
     "execution_count": 7,
     "metadata": {},
     "output_type": "execute_result"
    }
   ],
   "source": [
    "# 8. Wap to removve i'th character from string in python\n",
    "a=\"CETPA\"\n",
    "print(\"Remove one caharacter form string =\",a[-5:-1])\n",
    "a[-5:-2]"
   ]
  },
  {
   "cell_type": "code",
   "execution_count": 98,
   "metadata": {},
   "outputs": [
    {
     "name": "stdout",
     "output_type": "stream",
     "text": [
      "Length of string is = 14\n"
     ]
    }
   ],
   "source": [
    "# 9. Wap in python to find length of string\n",
    "s=\"Prajjwal Kumar\"\n",
    "print(\"Length of string is =\",len(s))"
   ]
  },
  {
   "cell_type": "code",
   "execution_count": 85,
   "metadata": {},
   "outputs": [
    {
     "name": "stdout",
     "output_type": "stream",
     "text": [
      "Even String is = rjwl\n"
     ]
    }
   ],
   "source": [
    "# 10. wap to print even length words in a string\n",
    "a=\"Prajjwal\"\n",
    "print(\"Even String is =\",a[1::2])"
   ]
  },
  {
   "cell_type": "code",
   "execution_count": 14,
   "metadata": {},
   "outputs": [
    {
     "name": "stdout",
     "output_type": "stream",
     "text": [
      "Revers List is = [4, 3, 2, 1]\n"
     ]
    }
   ],
   "source": [
    "# 11. WAap to print reverse list without reverse()\n",
    "x=[1,2,3,4]\n",
    "c=[]\n",
    "a=len(x)-1\n",
    "while(a>=0):\n",
    "    # print(x[a])\n",
    "    c.append(x[a])\n",
    "    a=a-1\n",
    "    \n",
    "print(\"Revers List is =\",c)"
   ]
  }
 ],
 "metadata": {
  "interpreter": {
   "hash": "2d7dce13f89aaa4090f92f7912dd01f08029a19715b8013175a2ce6ab90d173f"
  },
  "kernelspec": {
   "display_name": "Python 3.8.5 32-bit",
   "language": "python",
   "name": "python3"
  },
  "language_info": {
   "codemirror_mode": {
    "name": "ipython",
    "version": 3
   },
   "file_extension": ".py",
   "mimetype": "text/x-python",
   "name": "python",
   "nbconvert_exporter": "python",
   "pygments_lexer": "ipython3",
   "version": "3.8.5"
  },
  "orig_nbformat": 4
 },
 "nbformat": 4,
 "nbformat_minor": 2
}
