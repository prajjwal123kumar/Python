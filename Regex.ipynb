{
 "cells": [
  {
   "cell_type": "markdown",
   "metadata": {},
   "source": [
    "# Regex=>Regular Expression\n",
    "# Pattern find in String is called Regex.\n",
    "# some methods of Regex\n",
    "# findall()\n",
    "# search()\n",
    "# split()\n",
    "# sub()\n",
    "# finditer()"
   ]
  },
  {
   "cell_type": "code",
   "execution_count": 5,
   "metadata": {},
   "outputs": [
    {
     "name": "stdout",
     "output_type": "stream",
     "text": [
      "<re.Match object; span=(8, 9), match='i'>\n"
     ]
    }
   ],
   "source": [
    "# search()\n",
    "import re\n",
    "a=\"I am a lion and i know it.\"\n",
    "s=re.search('i',a)\n",
    "print(s)"
   ]
  },
  {
   "cell_type": "code",
   "execution_count": 6,
   "metadata": {},
   "outputs": [
    {
     "name": "stdout",
     "output_type": "stream",
     "text": [
      "['i', 'i', 'i']\n"
     ]
    }
   ],
   "source": [
    "# findall()\n",
    "import re\n",
    "a=\"I am a lion and i know it.\"\n",
    "f=re.findall('i',a)\n",
    "print(f)"
   ]
  },
  {
   "cell_type": "code",
   "execution_count": 8,
   "metadata": {},
   "outputs": [
    {
     "name": "stdout",
     "output_type": "stream",
     "text": [
      "I am a tiger and i know it.\n"
     ]
    }
   ],
   "source": [
    "# sub()\n",
    "import re\n",
    "a=\"I am a lion and i know it.\"\n",
    "sub=re.sub('lion','tiger',a)\n",
    "print(sub)"
   ]
  },
  {
   "cell_type": "code",
   "execution_count": 11,
   "metadata": {},
   "outputs": [
    {
     "name": "stdout",
     "output_type": "stream",
     "text": [
      "['I am a ', ' and i know it.']\n"
     ]
    },
    {
     "data": {
      "text/plain": [
       "['I am a l', 'on and ', ' know ', 't.']"
      ]
     },
     "execution_count": 11,
     "metadata": {},
     "output_type": "execute_result"
    }
   ],
   "source": [
    "# split()\n",
    "a=\"I am a lion and i know it.\"\n",
    "split=re.split('lion',a)\n",
    "print(split)\n",
    "\n",
    "\n",
    "re.split('i',a)"
   ]
  },
  {
   "cell_type": "code",
   "execution_count": 12,
   "metadata": {},
   "outputs": [
    {
     "name": "stdout",
     "output_type": "stream",
     "text": [
      "String Match 0 4\n"
     ]
    }
   ],
   "source": [
    "# finditer()\n",
    "a='lion'\n",
    "pat='lion'\n",
    "for match in re.finditer(pat,a):\n",
    "    s=match.start()\n",
    "    e=match.end()\n",
    "    print('String Match',s,e)"
   ]
  },
  {
   "cell_type": "code",
   "execution_count": 13,
   "metadata": {},
   "outputs": [
    {
     "name": "stdout",
     "output_type": "stream",
     "text": [
      "String Match 6 10\n"
     ]
    }
   ],
   "source": [
    "# finditer()\n",
    "a='I m a lion'\n",
    "pat='lion'\n",
    "for match in re.finditer(pat,a):\n",
    "    s=match.start()\n",
    "    e=match.end()\n",
    "    print('String Match',s,e)"
   ]
  }
 ],
 "metadata": {
  "interpreter": {
   "hash": "2d7dce13f89aaa4090f92f7912dd01f08029a19715b8013175a2ce6ab90d173f"
  },
  "kernelspec": {
   "display_name": "Python 3.8.5 32-bit",
   "language": "python",
   "name": "python3"
  },
  "language_info": {
   "codemirror_mode": {
    "name": "ipython",
    "version": 3
   },
   "file_extension": ".py",
   "mimetype": "text/x-python",
   "name": "python",
   "nbconvert_exporter": "python",
   "pygments_lexer": "ipython3",
   "version": "3.8.5"
  },
  "orig_nbformat": 4
 },
 "nbformat": 4,
 "nbformat_minor": 2
}
