{
 "cells": [
  {
   "cell_type": "markdown",
   "metadata": {},
   "source": [
    "# OOP's in Python"
   ]
  },
  {
   "cell_type": "code",
   "execution_count": 1,
   "metadata": {},
   "outputs": [
    {
     "name": "stdout",
     "output_type": "stream",
     "text": [
      "<__main__.X object at 0x03A3F730>\n"
     ]
    }
   ],
   "source": [
    "class X:\n",
    "    pass\n",
    "x=X()\n",
    "print(x)"
   ]
  },
  {
   "cell_type": "code",
   "execution_count": 2,
   "metadata": {},
   "outputs": [
    {
     "name": "stdout",
     "output_type": "stream",
     "text": [
      "<__main__.car object at 0x03A3FFE8>\n"
     ]
    }
   ],
   "source": [
    "class car:\n",
    "    def xyz():\n",
    "        print(\"hello\")\n",
    "c=car()\n",
    "print(c)"
   ]
  },
  {
   "cell_type": "code",
   "execution_count": 4,
   "metadata": {},
   "outputs": [
    {
     "name": "stdout",
     "output_type": "stream",
     "text": [
      "hello\n"
     ]
    }
   ],
   "source": [
    "class car:\n",
    "    def xyz():\n",
    "        print(\"hello\")\n",
    "car.xyz()"
   ]
  },
  {
   "cell_type": "code",
   "execution_count": 3,
   "metadata": {},
   "outputs": [
    {
     "name": "stdout",
     "output_type": "stream",
     "text": [
      "hello world\n"
     ]
    }
   ],
   "source": [
    "class car:\n",
    "    def xyz(self):\n",
    "        print(\"hello world\")\n",
    "c=car()\n",
    "c.xyz()"
   ]
  },
  {
   "cell_type": "code",
   "execution_count": 5,
   "metadata": {},
   "outputs": [
    {
     "name": "stdout",
     "output_type": "stream",
     "text": [
      "Prajjwal Unnao 80\n"
     ]
    }
   ],
   "source": [
    "class Student:\n",
    "    def show(self,name,address,marks):\n",
    "        print(name,address,marks)\n",
    "s=Student()\n",
    "s.show(\"Prajjwal\",\"Unnao\",\"80\")\n"
   ]
  },
  {
   "cell_type": "code",
   "execution_count": 4,
   "metadata": {},
   "outputs": [
    {
     "name": "stdout",
     "output_type": "stream",
     "text": [
      "aman kanpur 70\n"
     ]
    }
   ],
   "source": [
    "class Student:\n",
    "    def show(self):\n",
    "        a=input(\"Enter name : \")\n",
    "        b=input(\"Enter address : \")\n",
    "        c=input(\"Enter marks : \")\n",
    "        print(a,b,c)\n",
    "\n",
    "s=Student()\n",
    "s.show()"
   ]
  },
  {
   "cell_type": "code",
   "execution_count": 7,
   "metadata": {},
   "outputs": [
    {
     "data": {
      "text/plain": [
       "3.3333333333333335"
      ]
     },
     "execution_count": 7,
     "metadata": {},
     "output_type": "execute_result"
    }
   ],
   "source": [
    "class Calculator:\n",
    "    def add(self):\n",
    "        return (a+b)\n",
    "    def sub(self):\n",
    "        return (a-b)\n",
    "    def multi(self):\n",
    "        return (a*b)\n",
    "    def div(self):\n",
    "        return (a/b)\n",
    "a=int(input(\"Enter first number=\"))\n",
    "b=int(input(\"Enter second number=\"))\n",
    "cal=Calculator()\n",
    "# print(cal.add(),cal.sub(),cal.multi(),cal.div())\n",
    "# cal.add()\n",
    "# cal.sub()\n",
    "# cal.multi()\n",
    "cal.div()"
   ]
  },
  {
   "cell_type": "code",
   "execution_count": null,
   "metadata": {},
   "outputs": [
    {
     "name": "stdout",
     "output_type": "stream",
     "text": [
      "Name : Aman\n",
      "Id : 101\n"
     ]
    }
   ],
   "source": [
    "class Employee:\n",
    "    def info(self,name,id):\n",
    "        print(\"Name :\",name)\n",
    "        print(\"Id :\",id)\n",
    "e=Employee()\n",
    "e.info(\"Aman\",101)\n",
    "\n"
   ]
  },
  {
   "cell_type": "code",
   "execution_count": 9,
   "metadata": {},
   "outputs": [
    {
     "name": "stdout",
     "output_type": "stream",
     "text": [
      "Total Stuents : 50\n",
      "Total Staff : 10\n"
     ]
    }
   ],
   "source": [
    "class School:\n",
    "    def detail(self,totalstu,totalstaff):\n",
    "        print(\"Total Stuents :\",totalstu)\n",
    "        print(\"Total Staff :\",totalstaff)\n",
    "s=School()\n",
    "s.detail(50,10)"
   ]
  },
  {
   "cell_type": "code",
   "execution_count": 8,
   "metadata": {},
   "outputs": [
    {
     "name": "stdout",
     "output_type": "stream",
     "text": [
      "Stuent : Aman || Marks : 70 || Subject : Math\n",
      "Stuent : Dinesh || Marks : 75 || Subject : Science\n"
     ]
    }
   ],
   "source": [
    "class College:\n",
    "    def detail(self,student,mark,subject):\n",
    "        print(\"Stuent :\",student, \"|| \" \"Marks :\",mark, \"|| \" \"Subject :\",subject)\n",
    "s=College()\n",
    "s.detail(\"Aman\",70,\"Math\")\n",
    "s.detail(\"Dinesh\",75,\"Science\")"
   ]
  },
  {
   "cell_type": "code",
   "execution_count": 26,
   "metadata": {},
   "outputs": [
    {
     "name": "stdout",
     "output_type": "stream",
     "text": [
      "Student Name :  Ram  ||  Marks :  20  ||  Subject :  English\n",
      "Student Name :  Aman  ||  Marks :  23  ||  Subject :  Math\n"
     ]
    }
   ],
   "source": [
    "class College:\n",
    "    def info(self,stuname,marks,subject):\n",
    "        i=0\n",
    "        while(i<=len(stuname)-1):\n",
    "            print(\"Student Name : \",stuname[i],\" || \",\"Marks : \",marks[i],\" || \",\"Subject : \",subject[i])\n",
    "            #print(marks[i])\n",
    "            #print(subject[i])\n",
    "            i+=1\n",
    "s=College()\n",
    "s.info(['Ram','Aman'],[20,23],['English','Math'])"
   ]
  },
  {
   "cell_type": "code",
   "execution_count": 10,
   "metadata": {},
   "outputs": [
    {
     "name": "stdout",
     "output_type": "stream",
     "text": [
      "Stuent : Aman || Marks : 70 || Subject : Math  || Roll no. : 12\n",
      "Stuent : Dinesh || Marks : 75 || Subject : Science  || Roll no. : 20\n"
     ]
    }
   ],
   "source": [
    "class College:\n",
    "    def info(x,student,mark,subject,rollno):\n",
    "        print(\"Stuent :\",student, \"|| \" \"Marks :\",mark, \"|| \" \"Subject :\",subject, \" || \"  \"Roll no. :\",rollno)\n",
    "s=College()\n",
    "s.info(\"Aman\",70,\"Math\",12)\n",
    "s.info(\"Dinesh\",75,\"Science\",20)"
   ]
  },
  {
   "cell_type": "code",
   "execution_count": 32,
   "metadata": {},
   "outputs": [
    {
     "name": "stdout",
     "output_type": "stream",
     "text": [
      "Name :  Prajjwal\n",
      "Id : 101\n"
     ]
    }
   ],
   "source": [
    "class F1:\n",
    "    def info(self,name,id):\n",
    "        print(\"Name : \",name)\n",
    "        print(\"Id :\",id)\n",
    "f=F1()\n",
    "f.info(\"Prajjwal\",101)"
   ]
  },
  {
   "cell_type": "markdown",
   "metadata": {},
   "source": [
    "# Constructor"
   ]
  },
  {
   "cell_type": "code",
   "execution_count": 38,
   "metadata": {},
   "outputs": [
    {
     "name": "stdout",
     "output_type": "stream",
     "text": [
      "101 Aman 10 Science\n"
     ]
    }
   ],
   "source": [
    "class College:\n",
    "    def __init__(self,id,name,rollno,subject):\n",
    "        self.id=id\n",
    "        self.name=name\n",
    "        self.rollno=rollno\n",
    "        self.subject=subject\n",
    "c=College(101,\"Aman\",10,\"Science\")\n",
    "print(c.id,c.name,c.rollno,c.subject)"
   ]
  },
  {
   "cell_type": "code",
   "execution_count": 40,
   "metadata": {},
   "outputs": [
    {
     "name": "stdout",
     "output_type": "stream",
     "text": [
      "ID = 101\n",
      "Name = Aman\n",
      "Roll No. = 10\n",
      "Subject = Science\n"
     ]
    }
   ],
   "source": [
    "class College:\n",
    "    def __init__(self,id,name,rollno,subject):\n",
    "        self.id=id\n",
    "        self.name=name\n",
    "        self.rollno=rollno\n",
    "        self.subject=subject\n",
    "c=College(101,\"Aman\",10,\"Science\")\n",
    "print(\"ID =\",c.id)\n",
    "print(\"Name =\",c.name)\n",
    "print(\"Roll No. =\",c.rollno)\n",
    "print(\"Subject =\",c.subject)"
   ]
  },
  {
   "cell_type": "code",
   "execution_count": 1,
   "metadata": {},
   "outputs": [
    {
     "name": "stdout",
     "output_type": "stream",
     "text": [
      "Student ID : 101\n",
      "Student Name : Aman\n",
      "Student Roll No. : 10\n",
      "Student Subject : Computer Science\n"
     ]
    }
   ],
   "source": [
    "class College:\n",
    "    def __init__(self,id,name,rollno,subject):\n",
    "        self.id=id\n",
    "        self.name=name\n",
    "        self.rollno=rollno\n",
    "        self.subject=subject\n",
    "    def show(self):\n",
    "        print(\"Student ID :\",self.id)\n",
    "        print(\"Student Name :\",self.name)\n",
    "        print(\"Student Roll No. :\",self.rollno)\n",
    "        print(\"Student Subject :\",self.subject)\n",
    "c=College(101,\"Aman\",10,\"Computer Science\")\n",
    "c.show()"
   ]
  },
  {
   "cell_type": "code",
   "execution_count": 2,
   "metadata": {},
   "outputs": [
    {
     "name": "stdout",
     "output_type": "stream",
     "text": [
      "Addition : 300\n"
     ]
    }
   ],
   "source": [
    "class College:\n",
    "    def __init__(self,num1,num2):\n",
    "        self.num1=num1\n",
    "        self.num2=num2\n",
    "    def add(self):\n",
    "        print(\"Addition :\",self.num1+self.num2)\n",
    "c=College(100,200)\n",
    "c.add()"
   ]
  },
  {
   "cell_type": "markdown",
   "metadata": {},
   "source": [
    "# Inheritance"
   ]
  },
  {
   "cell_type": "code",
   "execution_count": 7,
   "metadata": {},
   "outputs": [
    {
     "name": "stdout",
     "output_type": "stream",
     "text": [
      "Parent Class.\n",
      "Child Class.\n"
     ]
    }
   ],
   "source": [
    "class parent:\n",
    "    def show(self):\n",
    "        print(\"Parent Class.\")\n",
    "class child(parent):\n",
    "    def show1(self):\n",
    "        print(\"Child Class.\")\n",
    "#c=parent()\n",
    "#c.show()\n",
    "ch=child()\n",
    "ch.show()\n",
    "ch.show1()\n"
   ]
  },
  {
   "cell_type": "code",
   "execution_count": 4,
   "metadata": {},
   "outputs": [
    {
     "name": "stdout",
     "output_type": "stream",
     "text": [
      "Roll = 4\n",
      "id = 101\n",
      "Name = Aman\n"
     ]
    }
   ],
   "source": [
    "class four:\n",
    "    def __init__(self,id,name):\n",
    "        self.id=id\n",
    "        self.name=name\n",
    "    def info(self):\n",
    "        print(\"id =\",self.id)\n",
    "        print(\"Name =\",self.name)\n",
    "class five(four):\n",
    "    def __init__(self,id,name,roll):\n",
    "        self.roll=roll\n",
    "        super().__init__(id,name)\n",
    "    def info1(self):\n",
    "        print(\"Roll =\",self.roll)\n",
    "        \n",
    "# f=four(101,\"Aman\")\n",
    "# f.info()\n",
    "fi=five(101,\"Aman\",4)\n",
    "fi.info1()\n",
    "fi.info()\n"
   ]
  },
  {
   "cell_type": "code",
   "execution_count": 5,
   "metadata": {},
   "outputs": [
    {
     "name": "stdout",
     "output_type": "stream",
     "text": [
      "200000 A6 Black\n"
     ]
    }
   ],
   "source": [
    "class Car:\n",
    "    def __init__(self,brand,color):\n",
    "        self.brand=brand\n",
    "        self.color=color\n",
    "class Truck(Car):\n",
    "    def __init__(self,brand,color,price):\n",
    "        super().__init__(brand,color)\n",
    "        self.price=price\n",
    "a=Truck(\"A6\",\"Black\",200000)\n",
    "print(a.price,a.brand,a.color) "
   ]
  },
  {
   "cell_type": "markdown",
   "metadata": {},
   "source": [
    "# single inheritance"
   ]
  },
  {
   "cell_type": "code",
   "execution_count": 1,
   "metadata": {},
   "outputs": [
    {
     "name": "stdout",
     "output_type": "stream",
     "text": [
      "abc 30 20\n"
     ]
    }
   ],
   "source": [
    "class Student1:\n",
    "    def __init__(self,name,marks):\n",
    "        self.name=name\n",
    "        self.marks=marks\n",
    "class Student2(Student1):\n",
    "    def __init__(self,name,marks,age):\n",
    "        super().__init__(name,marks)\n",
    "        self.age=age\n",
    "stu=Student2(\"abc\",30,20)\n",
    "print(stu.name,stu.marks,stu.age)\n"
   ]
  },
  {
   "cell_type": "code",
   "execution_count": 5,
   "metadata": {},
   "outputs": [
    {
     "ename": "TypeError",
     "evalue": "__init__() takes 2 positional arguments but 4 were given",
     "output_type": "error",
     "traceback": [
      "\u001b[1;31m---------------------------------------------------------------------------\u001b[0m",
      "\u001b[1;31mTypeError\u001b[0m                                 Traceback (most recent call last)",
      "\u001b[1;32m~\\AppData\\Local\\Temp/ipykernel_9596/3807666448.py\u001b[0m in \u001b[0;36m<module>\u001b[1;34m\u001b[0m\n\u001b[0;32m      7\u001b[0m         \u001b[1;31m#super().__init__(name,marks)\u001b[0m\u001b[1;33m\u001b[0m\u001b[1;33m\u001b[0m\u001b[1;33m\u001b[0m\u001b[0m\n\u001b[0;32m      8\u001b[0m         \u001b[0mself\u001b[0m\u001b[1;33m.\u001b[0m\u001b[0mage\u001b[0m\u001b[1;33m=\u001b[0m\u001b[0mage\u001b[0m\u001b[1;33m\u001b[0m\u001b[1;33m\u001b[0m\u001b[0m\n\u001b[1;32m----> 9\u001b[1;33m \u001b[0mstu\u001b[0m\u001b[1;33m=\u001b[0m\u001b[0mStudent2\u001b[0m\u001b[1;33m(\u001b[0m\u001b[1;34m\"abc\"\u001b[0m\u001b[1;33m,\u001b[0m\u001b[1;36m30\u001b[0m\u001b[1;33m,\u001b[0m\u001b[1;36m70\u001b[0m\u001b[1;33m)\u001b[0m\u001b[1;33m\u001b[0m\u001b[1;33m\u001b[0m\u001b[0m\n\u001b[0m\u001b[0;32m     10\u001b[0m \u001b[0mprint\u001b[0m\u001b[1;33m(\u001b[0m\u001b[0mstu\u001b[0m\u001b[1;33m.\u001b[0m\u001b[0mage\u001b[0m\u001b[1;33m)\u001b[0m\u001b[1;33m\u001b[0m\u001b[1;33m\u001b[0m\u001b[0m\n",
      "\u001b[1;31mTypeError\u001b[0m: __init__() takes 2 positional arguments but 4 were given"
     ]
    }
   ],
   "source": [
    "class Student1:\n",
    "    def __init__(self,name,marks):\n",
    "        self.name=name\n",
    "        self.marks=marks\n",
    "class Student2(Student1):\n",
    "    def __init__(self,age):\n",
    "        #super().__init__(name,marks)\n",
    "        self.age=age\n",
    "stu=Student2(\"abc\",30,70)\n",
    "print(stu.age)"
   ]
  },
  {
   "cell_type": "markdown",
   "metadata": {},
   "source": [
    "# Multilevel Inheritance"
   ]
  },
  {
   "cell_type": "code",
   "execution_count": 9,
   "metadata": {},
   "outputs": [
    {
     "name": "stdout",
     "output_type": "stream",
     "text": [
      "Turbo Engine\n"
     ]
    }
   ],
   "source": [
    "class GrandParent:\n",
    "    def car(self,price,color):\n",
    "        print(price)\n",
    "        print(color)\n",
    "class Parent(GrandParent):\n",
    "    def car1(self,model):\n",
    "        print(model)\n",
    "class Child(Parent):\n",
    "    def car2(self,engine):\n",
    "        print(engine)\n",
    "ch=Child()\n",
    "ch.car2('Turbo Engine')\n"
   ]
  },
  {
   "cell_type": "code",
   "execution_count": 10,
   "metadata": {},
   "outputs": [
    {
     "name": "stdout",
     "output_type": "stream",
     "text": [
      "2000000 Black A4 Turbo Engine\n"
     ]
    }
   ],
   "source": [
    "class GrandParent:\n",
    "    def __init__(self,price,color):\n",
    "        self.price=price\n",
    "        self.color=color\n",
    "class Parent(GrandParent):\n",
    "    def __init__(self,price,color,model):\n",
    "        self.model=model\n",
    "        super().__init__(price,color)\n",
    "class Child(Parent):\n",
    "    def __init__(self,price,color,model,engine):\n",
    "        self.engine=engine\n",
    "        super().__init__(price,color,model)\n",
    "ch=Child(2000000,'Black','A4','Turbo Engine')\n",
    "print(ch.price,ch.color,ch.model,ch.engine)"
   ]
  },
  {
   "cell_type": "code",
   "execution_count": 2,
   "metadata": {},
   "outputs": [
    {
     "name": "stdout",
     "output_type": "stream",
     "text": [
      "Ramesh 25 20 Delhi\n"
     ]
    }
   ],
   "source": [
    "class Student1:\n",
    "    def __init__(self,name,marks):\n",
    "        self.name=name\n",
    "        self.marks=marks\n",
    "class Student2(Student1):\n",
    "    def __init__(self,name,marks,age,address):\n",
    "        super().__init__(name,marks)\n",
    "        self.age=age\n",
    "        self.address=address\n",
    "s=Student2(\"Ramesh\",25,20,\"Delhi\")\n",
    "print(s.name,s.marks,s.age,s.address)"
   ]
  },
  {
   "cell_type": "markdown",
   "metadata": {},
   "source": [
    "# Method Loading"
   ]
  },
  {
   "cell_type": "code",
   "execution_count": 4,
   "metadata": {},
   "outputs": [
    {
     "name": "stdout",
     "output_type": "stream",
     "text": [
      "None None\n",
      "10 None\n",
      "10 20\n"
     ]
    }
   ],
   "source": [
    "class Show:\n",
    "    def me(self,a=None,b=None):  #Here passing default argument\n",
    "        print(a,b)\n",
    "s=Show()\n",
    "s.me()\n",
    "s.me(10)\n",
    "s.me(10,20)"
   ]
  },
  {
   "cell_type": "code",
   "execution_count": 3,
   "metadata": {},
   "outputs": [
    {
     "name": "stdout",
     "output_type": "stream",
     "text": [
      "1 None\n",
      "10 None\n",
      "10 20\n"
     ]
    }
   ],
   "source": [
    "class Show:\n",
    "    def me(self,a=1,b=None):  #Here passing default argument\n",
    "        print(a,b)\n",
    "s=Show()\n",
    "s.me()\n",
    "s.me(10)\n",
    "s.me(10,20)"
   ]
  },
  {
   "cell_type": "code",
   "execution_count": 8,
   "metadata": {},
   "outputs": [
    {
     "name": "stdout",
     "output_type": "stream",
     "text": [
      "12 20\n",
      "222 20\n",
      "1 2\n",
      "1 2\n"
     ]
    }
   ],
   "source": [
    "class Car():\n",
    "    def detail(self,x=12,y=20):\n",
    "        print(x,y)\n",
    "c=Car()\n",
    "c.detail()\n",
    "c.detail(222)\n",
    "# c.detail(,333)\n",
    "c.detail(1,2)\n",
    "c.detail(+1,2)\n"
   ]
  },
  {
   "cell_type": "code",
   "execution_count": 5,
   "metadata": {},
   "outputs": [
    {
     "name": "stdout",
     "output_type": "stream",
     "text": [
      "5 10\n",
      "2 3\n"
     ]
    }
   ],
   "source": [
    "class F1:\n",
    "    def show(self,a=5,b=10):\n",
    "        print(a,b)\n",
    "f=F1()\n",
    "f.show()\n",
    "f.show(2,3)"
   ]
  },
  {
   "cell_type": "markdown",
   "metadata": {},
   "source": [
    "# Method Overriding"
   ]
  },
  {
   "cell_type": "code",
   "execution_count": 12,
   "metadata": {},
   "outputs": [
    {
     "name": "stdout",
     "output_type": "stream",
     "text": [
      "abc red 5000000\n"
     ]
    }
   ],
   "source": [
    "class Car1:\n",
    "    def detail(self,name,color):\n",
    "        print(name,color)\n",
    "class Car2(Car1):\n",
    "    def detail(self,name,color,price):\n",
    "        print(name,color,price)\n",
    "#c=Car1()\n",
    "#c.detail(\"abc\",\"red\")\n",
    "c=Car2()\n",
    "c.detail(\"abc\",\"red\",5000000)\n",
    "\n",
    "    "
   ]
  },
  {
   "cell_type": "code",
   "execution_count": 13,
   "metadata": {},
   "outputs": [
    {
     "name": "stdout",
     "output_type": "stream",
     "text": [
      "I am in F2 class\n"
     ]
    }
   ],
   "source": [
    "class F1:\n",
    "    def show(self):\n",
    "        print(\"I am in F1 class\")\n",
    "class F2(F1):\n",
    "    def show(self):\n",
    "        print(\"I am in F2 class\")\n",
    "f=F2()\n",
    "f.show()"
   ]
  },
  {
   "cell_type": "code",
   "execution_count": 12,
   "metadata": {},
   "outputs": [
    {
     "name": "stdout",
     "output_type": "stream",
     "text": [
      "m1 of A\n",
      "m2 of A\n",
      "m1 of B\n",
      "m2 of A\n"
     ]
    }
   ],
   "source": [
    "class A:\n",
    "    def m1(self):\n",
    "        print(\"m1 of A\")\n",
    "    def m2(self):\n",
    "        print(\"m2 of A\")\n",
    "class B(A):\n",
    "    def m1(self):\n",
    "        print(\"m1 of B\")\n",
    "    def m3(self):\n",
    "        print(\"m3 of B\")\n",
    "# Now we test the class\n",
    "a=A() # creation of object\n",
    "a.m1()\n",
    "a.m2()\n",
    "b=B() # creation of object\n",
    "b.m1()\n",
    "b.m2()\n",
    "# b.m3()"
   ]
  },
  {
   "cell_type": "markdown",
   "metadata": {},
   "source": [
    "# Encapsulation"
   ]
  },
  {
   "cell_type": "code",
   "execution_count": 1,
   "metadata": {},
   "outputs": [
    {
     "name": "stdout",
     "output_type": "stream",
     "text": [
      "10\n"
     ]
    }
   ],
   "source": [
    "class Student:\n",
    "    a=10\n",
    "    def me(self):\n",
    "        print(self.a)\n",
    "s=Student()\n",
    "s.me()"
   ]
  },
  {
   "cell_type": "code",
   "execution_count": 2,
   "metadata": {},
   "outputs": [
    {
     "name": "stdout",
     "output_type": "stream",
     "text": [
      "10\n"
     ]
    }
   ],
   "source": [
    "# esme error aaye to yahi encapsulation hai(AttributeRrror)\n",
    "class Student:\n",
    "    __a=10\n",
    "    def __me(self):\n",
    "        print(self.__a)\n",
    "        #print(self.a)\n",
    "    s=Student()\n",
    "    s.me()"
   ]
  },
  {
   "cell_type": "code",
   "execution_count": 6,
   "metadata": {},
   "outputs": [
    {
     "ename": "AttributeError",
     "evalue": "'Student' object has no attribute 'me'",
     "output_type": "error",
     "traceback": [
      "\u001b[1;31m---------------------------------------------------------------------------\u001b[0m",
      "\u001b[1;31mAttributeError\u001b[0m                            Traceback (most recent call last)",
      "\u001b[1;32m~\\AppData\\Local\\Temp/ipykernel_7968/1347134334.py\u001b[0m in \u001b[0;36m<module>\u001b[1;34m\u001b[0m\n\u001b[0;32m      1\u001b[0m \u001b[1;31m# esme error aaye to yahi encapsulation hai(AttributeRrror)\u001b[0m\u001b[1;33m\u001b[0m\u001b[1;33m\u001b[0m\u001b[1;33m\u001b[0m\u001b[0m\n\u001b[1;32m----> 2\u001b[1;33m \u001b[1;32mclass\u001b[0m \u001b[0mStudent\u001b[0m\u001b[1;33m:\u001b[0m\u001b[1;33m\u001b[0m\u001b[1;33m\u001b[0m\u001b[0m\n\u001b[0m\u001b[0;32m      3\u001b[0m     \u001b[0m__a\u001b[0m\u001b[1;33m=\u001b[0m\u001b[1;36m10\u001b[0m\u001b[1;33m\u001b[0m\u001b[1;33m\u001b[0m\u001b[0m\n\u001b[0;32m      4\u001b[0m     \u001b[1;32mdef\u001b[0m \u001b[0m__me\u001b[0m\u001b[1;33m(\u001b[0m\u001b[0mself\u001b[0m\u001b[1;33m)\u001b[0m\u001b[1;33m:\u001b[0m\u001b[1;33m\u001b[0m\u001b[1;33m\u001b[0m\u001b[0m\n\u001b[0;32m      5\u001b[0m         \u001b[0mprint\u001b[0m\u001b[1;33m(\u001b[0m\u001b[0mself\u001b[0m\u001b[1;33m.\u001b[0m\u001b[0ma\u001b[0m\u001b[1;33m)\u001b[0m\u001b[1;33m\u001b[0m\u001b[1;33m\u001b[0m\u001b[0m\n",
      "\u001b[1;32m~\\AppData\\Local\\Temp/ipykernel_7968/1347134334.py\u001b[0m in \u001b[0;36mStudent\u001b[1;34m()\u001b[0m\n\u001b[0;32m      5\u001b[0m         \u001b[0mprint\u001b[0m\u001b[1;33m(\u001b[0m\u001b[0mself\u001b[0m\u001b[1;33m.\u001b[0m\u001b[0ma\u001b[0m\u001b[1;33m)\u001b[0m\u001b[1;33m\u001b[0m\u001b[1;33m\u001b[0m\u001b[0m\n\u001b[0;32m      6\u001b[0m     \u001b[0ms\u001b[0m\u001b[1;33m=\u001b[0m\u001b[0mStudent\u001b[0m\u001b[1;33m(\u001b[0m\u001b[1;33m)\u001b[0m\u001b[1;33m\u001b[0m\u001b[1;33m\u001b[0m\u001b[0m\n\u001b[1;32m----> 7\u001b[1;33m     \u001b[0ms\u001b[0m\u001b[1;33m.\u001b[0m\u001b[0mme\u001b[0m\u001b[1;33m(\u001b[0m\u001b[1;33m)\u001b[0m\u001b[1;33m\u001b[0m\u001b[1;33m\u001b[0m\u001b[0m\n\u001b[0m",
      "\u001b[1;31mAttributeError\u001b[0m: 'Student' object has no attribute 'me'"
     ]
    }
   ],
   "source": [
    "# esme error aaye to yahi encapsulation hai(AttributeRrror)\n",
    "class Student:\n",
    "    __a=10\n",
    "    def __me(self):\n",
    "        print(self.a)\n",
    "    s=Student()\n",
    "    s.me()"
   ]
  },
  {
   "cell_type": "markdown",
   "metadata": {},
   "source": [
    "# Abstration\n",
    "# 1. which have abstract method\n",
    "# 2. Abstract method->method with declaration but not the defenition\n",
    "# 3. to obtain abstraction in python we have to import the modules called ABC and abstract method"
   ]
  },
  {
   "cell_type": "code",
   "execution_count": 28,
   "metadata": {},
   "outputs": [
    {
     "name": "stdout",
     "output_type": "stream",
     "text": [
      "Abstract Method\n"
     ]
    }
   ],
   "source": [
    "# import module\n",
    "#abc means-Abstract Base Class\n",
    "from abc import ABC,abstractmethod\n",
    "\n",
    "class abstract_demo(): # Abstract Base class\n",
    "    @abstractmethod \n",
    "    def display(self):\n",
    "        None\n",
    "class demo2(abstract_demo):\n",
    "    def display1(self):\n",
    "        print(\"Abstract Method\")\n",
    "# x=abstract_demo()\n",
    "# x.display()\n",
    "\n",
    "x=demo2()\n",
    "x.display1()"
   ]
  },
  {
   "cell_type": "code",
   "execution_count": 15,
   "metadata": {},
   "outputs": [
    {
     "ename": "TypeError",
     "evalue": "Can't instantiate abstract class car with abstract methods detail",
     "output_type": "error",
     "traceback": [
      "\u001b[1;31m---------------------------------------------------------------------------\u001b[0m",
      "\u001b[1;31mTypeError\u001b[0m                                 Traceback (most recent call last)",
      "\u001b[1;32m~\\AppData\\Local\\Temp/ipykernel_4868/737517213.py\u001b[0m in \u001b[0;36m<module>\u001b[1;34m\u001b[0m\n\u001b[0;32m      4\u001b[0m     \u001b[1;32mdef\u001b[0m \u001b[0mdetail\u001b[0m\u001b[1;33m(\u001b[0m\u001b[0mself\u001b[0m\u001b[1;33m)\u001b[0m\u001b[1;33m:\u001b[0m\u001b[1;33m\u001b[0m\u001b[1;33m\u001b[0m\u001b[0m\n\u001b[0;32m      5\u001b[0m         \u001b[1;32mNone\u001b[0m\u001b[1;33m\u001b[0m\u001b[1;33m\u001b[0m\u001b[0m\n\u001b[1;32m----> 6\u001b[1;33m \u001b[0mc\u001b[0m\u001b[1;33m=\u001b[0m\u001b[0mcar\u001b[0m\u001b[1;33m(\u001b[0m\u001b[1;33m)\u001b[0m\u001b[1;33m\u001b[0m\u001b[1;33m\u001b[0m\u001b[0m\n\u001b[0m\u001b[0;32m      7\u001b[0m \u001b[0mc\u001b[0m\u001b[1;33m.\u001b[0m\u001b[0mdetail\u001b[0m\u001b[1;33m(\u001b[0m\u001b[1;33m)\u001b[0m\u001b[1;33m\u001b[0m\u001b[1;33m\u001b[0m\u001b[0m\n",
      "\u001b[1;31mTypeError\u001b[0m: Can't instantiate abstract class car with abstract methods detail"
     ]
    }
   ],
   "source": [
    "from abc import ABC,abstractmethod\n",
    "class car(ABC):\n",
    "    @abstractmethod\n",
    "    def detail(self):\n",
    "        None\n",
    "c=car()\n",
    "c.detail()"
   ]
  },
  {
   "cell_type": "code",
   "execution_count": 26,
   "metadata": {},
   "outputs": [
    {
     "name": "stdout",
     "output_type": "stream",
     "text": [
      "Turbo Engin\n"
     ]
    }
   ],
   "source": [
    "from abc import ABC,abstractmethod\n",
    "class car():\n",
    "    @abstractmethod\n",
    "    def detail(self):\n",
    "        None\n",
    "class car2(car):\n",
    "    def detail2(self):\n",
    "        None\n",
    "class engin(car2):\n",
    "    def detail3(self):\n",
    "        print(\"Turbo Engin\")\n",
    "x=engin()\n",
    "x.detail3()"
   ]
  },
  {
   "cell_type": "markdown",
   "metadata": {},
   "source": [
    "# OOP's Questions"
   ]
  },
  {
   "cell_type": "code",
   "execution_count": 14,
   "metadata": {},
   "outputs": [
    {
     "name": "stdout",
     "output_type": "stream",
     "text": [
      "<bound method F1.info of <__main__.F1 object at 0x04FAA028>>\n",
      "This is my class\n"
     ]
    }
   ],
   "source": [
    "# 1. Create a class with instance attributes\n",
    "class F1:\n",
    "    def info(self):\n",
    "        print(\"This is my class\")\n",
    "f=F1()\n",
    "print(f.info)\n",
    "f.info()\n"
   ]
  },
  {
   "cell_type": "code",
   "execution_count": 17,
   "metadata": {},
   "outputs": [
    {
     "name": "stdout",
     "output_type": "stream",
     "text": [
      "None\n"
     ]
    }
   ],
   "source": [
    "# 2. Create a Vehicle class without any variables and methods\n",
    "class Vehicle:\n",
    "    def show(self):\n",
    "        pass\n",
    "v=Vehicle()\n",
    "# v.show()\n",
    "k=v.show()\n",
    "print(k)"
   ]
  },
  {
   "cell_type": "code",
   "execution_count": 23,
   "metadata": {},
   "outputs": [
    {
     "name": "stdout",
     "output_type": "stream",
     "text": [
      "Mahendra\n",
      "B6\n",
      "yellow\n"
     ]
    }
   ],
   "source": [
    "# 3. Create a child class Bus that will inherit all of the variables and methods of the Vehicle class.  \n",
    "class Vehicle:\n",
    "    def __init__(self,name,model):\n",
    "        self.name=name\n",
    "        self.model=model\n",
    "    def show1(self):\n",
    "        print(self.name)\n",
    "        print(self.model)\n",
    "class Bus(Vehicle):\n",
    "    def __init__(self, name, model, color):\n",
    "        super().__init__(name, model)\n",
    "        self.color=color\n",
    "    def show2(self):\n",
    "        print(self.name)\n",
    "        print(self.model)\n",
    "        print(self.color)\n",
    "b=Bus(\"Mahendra\",\"B6\",\"yellow\")\n",
    "b.show2()"
   ]
  },
  {
   "cell_type": "code",
   "execution_count": 24,
   "metadata": {},
   "outputs": [
    {
     "name": "stdout",
     "output_type": "stream",
     "text": [
      "This is Child Class\n"
     ]
    }
   ],
   "source": [
    "# 4. Class Inheritance\n",
    "class F1:\n",
    "    def detail(self):\n",
    "        print(\"This is Parent Class\")\n",
    "class F2(F1):\n",
    "    def detail1(self):\n",
    "        print(\"This is Child Class\")\n",
    "f=F2()\n",
    "f.detail1()"
   ]
  },
  {
   "cell_type": "code",
   "execution_count": null,
   "metadata": {},
   "outputs": [],
   "source": [
    "# 5. Define a property that must have the same value for every class instance (object)\n"
   ]
  },
  {
   "cell_type": "code",
   "execution_count": 34,
   "metadata": {},
   "outputs": [
    {
     "name": "stdout",
     "output_type": "stream",
     "text": [
      "THis is Abstract Method\n"
     ]
    }
   ],
   "source": [
    "# 6. create a abstract method and inherit the base class as well as child class\n",
    "from abc import ABC,abstractmethod\n",
    "class F1():\n",
    "    def info(self):\n",
    "        None\n",
    "class F2(F1):\n",
    "    @abstractmethod\n",
    "    def info(self):\n",
    "        print(\"THis is Abstract Method\")\n",
    "f=F2()\n",
    "f.info()"
   ]
  },
  {
   "cell_type": "code",
   "execution_count": 35,
   "metadata": {},
   "outputs": [
    {
     "name": "stdout",
     "output_type": "stream",
     "text": [
      "SUV\n",
      "Turbo Engin\n",
      "Black\n",
      "2019\n"
     ]
    }
   ],
   "source": [
    "# 7. Use constructor and make a multilevel inheritance with the help of super key word.\n",
    "class Car:\n",
    "    def __init__(self,name,model):\n",
    "        self.name=name\n",
    "        self.model=model\n",
    "    def detail(self):\n",
    "        print(self.name)\n",
    "        print(self.model)\n",
    "class Car1(Car):\n",
    "    def __init__(self, name, model, color):\n",
    "        super().__init__(name, model)\n",
    "        self.color=color\n",
    "    def detail1(self):\n",
    "        print(self.name)\n",
    "        print(self.model)\n",
    "        print(self.color)\n",
    "class Car2(Car1):\n",
    "    def __init__(self, name, model, color, year):\n",
    "        super().__init__(name, model, color)\n",
    "        self.year=year\n",
    "    def detail2(self):\n",
    "        print(self.name)\n",
    "        print(self.model)\n",
    "        print(self.color)\n",
    "        print(self.year)\n",
    "c=Car2(\"SUV\",\"Turbo Engin\",\"Black\",\"2019\")\n",
    "c.detail2()"
   ]
  },
  {
   "cell_type": "markdown",
   "metadata": {},
   "source": [
    "# 8. What is polymorphism?\n",
    "\n",
    "It is concept of OOp's.Polymorphism means one thing many form.It is two types.\n",
    "1. Method Overriding\n",
    "2. Method Overloading "
   ]
  },
  {
   "cell_type": "code",
   "execution_count": 36,
   "metadata": {},
   "outputs": [
    {
     "name": "stdout",
     "output_type": "stream",
     "text": [
      "1 None\n",
      "10 None\n",
      "10 20\n"
     ]
    }
   ],
   "source": [
    "# 9. WAP and give the example of method overloading\n",
    "class Show:\n",
    "    def me(self,a=1,b=None):  #Here passing default argument\n",
    "        print(a,b)\n",
    "s=Show()\n",
    "s.me()\n",
    "s.me(10)\n",
    "s.me(10,20)"
   ]
  },
  {
   "cell_type": "code",
   "execution_count": 37,
   "metadata": {},
   "outputs": [
    {
     "name": "stdout",
     "output_type": "stream",
     "text": [
      "abc red 5000000\n"
     ]
    }
   ],
   "source": [
    "# 10. Which type of polymorphism is supported in python? Explain with the help of a simple program.\n",
    "# Method overriding Polymorphism is support in Python\n",
    "class Car1:\n",
    "    def detail(self,name,color):\n",
    "        print(name,color)\n",
    "class Car2(Car1):\n",
    "    def detail(self,name,color,price):\n",
    "        print(name,color,price)\n",
    "#c=Car1()\n",
    "#c.detail(\"abc\",\"red\")\n",
    "c=Car2()\n",
    "c.detail(\"abc\",\"red\",5000000)"
   ]
  }
 ],
 "metadata": {
  "interpreter": {
   "hash": "2d7dce13f89aaa4090f92f7912dd01f08029a19715b8013175a2ce6ab90d173f"
  },
  "kernelspec": {
   "display_name": "Python 3.8.5 32-bit",
   "language": "python",
   "name": "python3"
  },
  "language_info": {
   "codemirror_mode": {
    "name": "ipython",
    "version": 3
   },
   "file_extension": ".py",
   "mimetype": "text/x-python",
   "name": "python",
   "nbconvert_exporter": "python",
   "pygments_lexer": "ipython3",
   "version": "3.8.5"
  },
  "orig_nbformat": 4
 },
 "nbformat": 4,
 "nbformat_minor": 2
}
