{
 "cells": [
  {
   "cell_type": "code",
   "execution_count": 5,
   "metadata": {},
   "outputs": [],
   "source": [
    "import tkinter #Library import\n",
    "win=tkinter.Tk()\n",
    "def fun():\n",
    "    return (\"Heloo Tkinter\")\n",
    "but=tkinter.Button(text=\"Hello\",command=fun)\n",
    "# but.pack()\n",
    "win.mainloop()"
   ]
  },
  {
   "cell_type": "code",
   "execution_count": 6,
   "metadata": {},
   "outputs": [],
   "source": [
    "import tkinter #Library import\n",
    "win=tkinter.Tk()\n",
    "win.geometry(\"600x600\")\n",
    "def fun():\n",
    "    return (\"Heloo Tkinter\")\n",
    "but=tkinter.Button(text=\"Hello\",command=fun(),font=('courier',14,'bold'),background=\"yellow\")\n",
    "# but.pack()\n",
    "win.mainloop()"
   ]
  },
  {
   "cell_type": "code",
   "execution_count": 7,
   "metadata": {},
   "outputs": [],
   "source": [
    "import tkinter #Library import\n",
    "win=tkinter.Tk()\n",
    "win.geometry(\"600x600\")\n",
    "def fun():\n",
    "    return (\"Heloo Tkinter\")\n",
    "but=tkinter.Button(text=\"Hello\",command=fun(),font=(\n",
    "    'courier',14,'bold'),background=\"yellow\")\n",
    "but.pack()\n",
    "input_box=tkinter.Entry(width=20)\n",
    "input_box.pack(side=tkinter.LEFT)\n",
    "win.mainloop()"
   ]
  },
  {
   "cell_type": "code",
   "execution_count": 2,
   "metadata": {},
   "outputs": [],
   "source": [
    "# The Tkinter PhotoImage Class: only for support png/gfif\n",
    "from tkinter import *\n",
    "root=Tk()\n",
    "root.geometry(\"500x500\")\n",
    "photo=PhotoImage(file=\"D://cetpa/parrot2.png\")\n",
    "lbl=Label(root,image=photo)\n",
    "lbl.pack()\n",
    "root.mainloop()"
   ]
  },
  {
   "cell_type": "code",
   "execution_count": 1,
   "metadata": {},
   "outputs": [],
   "source": [
    "#pip install pillow: To use PIL in program & all type of images support the library\n",
    "from tkinter import *\n",
    "from PIL import Image,ImageTk\n",
    "root=Tk()\n",
    "image=Image.open(\"D://cetpa/parrot1.jpg\")\n",
    "photo1=ImageTk.PhotoImage(image)\n",
    "label=Label(root,image=photo1)\n",
    "label.pack()\n",
    "root.mainloop()"
   ]
  },
  {
   "cell_type": "code",
   "execution_count": null,
   "metadata": {},
   "outputs": [],
   "source": []
  }
 ],
 "metadata": {
  "interpreter": {
   "hash": "2d7dce13f89aaa4090f92f7912dd01f08029a19715b8013175a2ce6ab90d173f"
  },
  "kernelspec": {
   "display_name": "Python 3.8.5 32-bit",
   "language": "python",
   "name": "python3"
  },
  "language_info": {
   "codemirror_mode": {
    "name": "ipython",
    "version": 3
   },
   "file_extension": ".py",
   "mimetype": "text/x-python",
   "name": "python",
   "nbconvert_exporter": "python",
   "pygments_lexer": "ipython3",
   "version": "3.8.5"
  },
  "orig_nbformat": 4
 },
 "nbformat": 4,
 "nbformat_minor": 2
}
