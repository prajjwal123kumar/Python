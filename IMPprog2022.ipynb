{
 "cells": [
  {
   "cell_type": "markdown",
   "metadata": {},
   "source": [
    "# WAP to find roots of quadratic equation."
   ]
  },
  {
   "cell_type": "code",
   "execution_count": 1,
   "metadata": {},
   "outputs": [
    {
     "name": "stdout",
     "output_type": "stream",
     "text": [
      "Root 1 =  -0.6666666666666666\n",
      "Root 2 =  -1.0\n"
     ]
    }
   ],
   "source": [
    "import math\n",
    "a=float(input(\"Enter value of a : \"))\n",
    "b=float(input(\"Enter value of b : \"))\n",
    "c=float(input(\"Enter value of c : \"))\n",
    "d=(b*b)-(4*a*c)\n",
    "if (d<0):\n",
    "    print(\"Roots are imaginary.\")\n",
    "else:\n",
    "    r1=(-b+math.sqrt(d))/(2*a)\n",
    "    r2=(-b-math.sqrt(d))/(2*a)\n",
    "    print(\"Root 1 = \",r1)\n",
    "    print(\"Root 2 = \",r2)"
   ]
  },
  {
   "cell_type": "markdown",
   "metadata": {},
   "source": [
    "# WAP in python to calculate electricity bill. Take no. of units consumed by user & based on units calculate the bill.The value are given below.\n",
    "1-150 => 2.40 Rs/unit      \n",
    "151-300 => 3.00 Rs/unit      \n",
    "more than 300 => 3.20 Rs/unit\n"
   ]
  },
  {
   "cell_type": "code",
   "execution_count": 6,
   "metadata": {},
   "outputs": [
    {
     "name": "stdout",
     "output_type": "stream",
     "text": [
      "Your total bill =  970.0\n"
     ]
    }
   ],
   "source": [
    "unit=int(input(\"Enter no. of units consumed : \"))\n",
    "if (unit<=150):\n",
    "    bill=unit*2.40\n",
    "elif (unit>150) and (unit<=300):\n",
    "    bill=(150*2.40) + (unit-150)*3.00\n",
    "else:\n",
    "    bill=(150*2.40)+(150*3.00)+(unit-300)*3.20\n",
    "print(\"Your total bill = \",bill)"
   ]
  },
  {
   "cell_type": "markdown",
   "metadata": {},
   "source": [
    "# WAP in python to convert given no. of days in terms of years,weeks & days.(Ignore leap year)"
   ]
  },
  {
   "cell_type": "code",
   "execution_count": 8,
   "metadata": {},
   "outputs": [
    {
     "name": "stdout",
     "output_type": "stream",
     "text": [
      "Year =  5\n",
      "Weeks =  27\n",
      "Days =  6\n"
     ]
    }
   ],
   "source": [
    "num= int(input(\"Enter a no. to check year, week & days : \"))\n",
    "year=int(num/365)\n",
    "week=int((num%365)/7)\n",
    "days=int((num%365)%7)\n",
    "print(\"Year = \",year)\n",
    "print(\"Weeks = \",week)\n",
    "print(\"Days = \",days)"
   ]
  },
  {
   "cell_type": "markdown",
   "metadata": {},
   "source": [
    "# wap in python to accept a coordinate point in a XY coordinate system and detremine its quatrant."
   ]
  },
  {
   "cell_type": "code",
   "execution_count": 2,
   "metadata": {},
   "outputs": [
    {
     "name": "stdout",
     "output_type": "stream",
     "text": [
      "Line in Fourth Quadrant.\n"
     ]
    }
   ],
   "source": [
    "x=int(input(\"Enter first no. : \"))\n",
    "y=int(input(\"Enter second no. : \"))\n",
    "if (x>0) and (y>0):\n",
    "    print(\"Line in First Quadrant.\")\n",
    "elif (x<0) and (y>0):\n",
    "    print(\"Line in Second Quadrant.\")\n",
    "elif (x<0) and (y<0):\n",
    "    print(\"Line in Third Quadrant.\")\n",
    "elif (x>0) and (y<0):\n",
    "    print(\"Line in Fourth Quadrant.\")\n",
    "elif (x==0) and (y>0):\n",
    "    print(\"Line at positive y axis.\") \n",
    "elif (x==0) and (y<0):\n",
    "    print(\"Line at negative y axis.\")   \n",
    "elif (y==0) and (x>0):\n",
    "    print(\"Line at positive x axis.\")\n",
    "elif (y==0) and (x<0):\n",
    "    print(\"Line at negative x axis.\")\n",
    "else: \n",
    "    print(\"Line at origin.\")"
   ]
  },
  {
   "cell_type": "markdown",
   "metadata": {},
   "source": [
    "# Calculate Gross Salary\n"
   ]
  },
  {
   "cell_type": "code",
   "execution_count": 11,
   "metadata": {},
   "outputs": [
    {
     "name": "stdout",
     "output_type": "stream",
     "text": [
      "Your Gross Salary is =  19500.0\n"
     ]
    }
   ],
   "source": [
    "bs=int(input(\"Enter your salary : \"))\n",
    "if (bs>=1) and (bs<=4000):\n",
    "    hra=bs*10/100\n",
    "    da=bs*50/100\n",
    "elif (bs>=4001) and (bs<=8000):\n",
    "    hra=bs*20/100\n",
    "    da=bs*60/100\n",
    "elif (bs>=8001) and (bs<=12000):\n",
    "    hra=bs*25/100\n",
    "    da=bs*70/100\n",
    "else:\n",
    "    hra=bs*30/100\n",
    "    da=bs*80/100\n",
    "gs=bs+hra+da\n",
    "print(\"Your Gross Salary is = \",gs)"
   ]
  },
  {
   "cell_type": "markdown",
   "metadata": {},
   "source": [
    "# Temperature Convert"
   ]
  },
  {
   "cell_type": "code",
   "execution_count": 14,
   "metadata": {},
   "outputs": [
    {
     "name": "stdout",
     "output_type": "stream",
     "text": [
      "Enter 1 for c to f.\n",
      "Enter 2 for f to c.\n",
      "Temperature in  F =  96.8\n"
     ]
    }
   ],
   "source": [
    "print(\"Enter 1 for c to f.\")\n",
    "print(\"Enter 2 for f to c.\")\n",
    "choice=int(input())\n",
    "if (choice==1):\n",
    "    c=float(input(\"Enter temperature in C.\"))\n",
    "    f=(9*c)/5+32\n",
    "    print(\"Temperature in  F = \",f)\n",
    "elif (choice==2):\n",
    "    f=float(input(\"Enter temperature in F.\"))\n",
    "    c=(f-32)*5/9\n",
    "    print(\"Temperature in C = \",c)\n",
    "else:\n",
    "    print(\"Invalid Choice.\")"
   ]
  },
  {
   "cell_type": "markdown",
   "metadata": {},
   "source": [
    "# Print table of a given no."
   ]
  },
  {
   "cell_type": "code",
   "execution_count": 16,
   "metadata": {},
   "outputs": [
    {
     "name": "stdout",
     "output_type": "stream",
     "text": [
      "2 * 1 = 2\n",
      "2 * 2 = 4\n",
      "2 * 3 = 6\n",
      "2 * 4 = 8\n",
      "2 * 5 = 10\n",
      "2 * 6 = 12\n",
      "2 * 7 = 14\n",
      "2 * 8 = 16\n",
      "2 * 9 = 18\n",
      "2 * 10 = 20\n"
     ]
    }
   ],
   "source": [
    "num=int(input(\"Enter a no. = \"))\n",
    "i=1\n",
    "while (i<=10):\n",
    "    print(num,\"*\",i,\"=\",(num*i))\n",
    "    i=i+1"
   ]
  },
  {
   "cell_type": "markdown",
   "metadata": {},
   "source": [
    "# Sum of Digits (123=6)"
   ]
  },
  {
   "cell_type": "code",
   "execution_count": 1,
   "metadata": {},
   "outputs": [
    {
     "name": "stdout",
     "output_type": "stream",
     "text": [
      "Sum of digits =  6\n"
     ]
    }
   ],
   "source": [
    "num=int(input(\"Enter a No. = \"))\n",
    "sum=0\n",
    "while (num>0):\n",
    "    rem=num%10\n",
    "    sum=sum+rem\n",
    "    num=int(num/10)\n",
    "print(\"Sum of digits = \",sum)"
   ]
  },
  {
   "cell_type": "markdown",
   "metadata": {},
   "source": [
    "# Wap to print Fibonacci Sequence up to n terms"
   ]
  },
  {
   "cell_type": "code",
   "execution_count": 7,
   "metadata": {},
   "outputs": [
    {
     "name": "stdout",
     "output_type": "stream",
     "text": [
      "Fibonacci Sequence : \n",
      "0 1 1 2 3 5 "
     ]
    }
   ],
   "source": [
    "# 1st method of fibonacci sequence\n",
    "n=int(input(\"How many terms you want in fibonacci sequence ? \"))\n",
    "n1=0 # First Term\n",
    "n2=1 # Second Term\n",
    "print(\"Fibonacci Sequence : \")\n",
    "print(n1,n2,end=\" \")\n",
    "i=1\n",
    "while (i<=n-2):\n",
    "    n3=n1+n2\n",
    "    print(n3,end=\" \")\n",
    "    n1=n2\n",
    "    n2=n3\n",
    "    i=i+1"
   ]
  },
  {
   "cell_type": "code",
   "execution_count": 4,
   "metadata": {},
   "outputs": [
    {
     "name": "stdout",
     "output_type": "stream",
     "text": [
      "1 2 3 5 8 13 "
     ]
    }
   ],
   "source": [
    "# 2nd method of fibonacci sequence \n",
    "def f1(x):\n",
    "    a=0\n",
    "    b=1\n",
    "    for i in range (x):\n",
    "        b=a+b\n",
    "        a=b-a\n",
    "        print(b,end=\" \")\n",
    "f1(6)"
   ]
  },
  {
   "cell_type": "code",
   "execution_count": 9,
   "metadata": {},
   "outputs": [
    {
     "name": "stdout",
     "output_type": "stream",
     "text": [
      "1 2 3 5 8 13 "
     ]
    }
   ],
   "source": [
    "# 3rd method of fibonacci sequence \n",
    "def f1(x):\n",
    "    a=0\n",
    "    b=1\n",
    "    for i in range(x):\n",
    "        c=a+b\n",
    "        a=b\n",
    "        b=c\n",
    "        print(b,end=\" \")\n",
    "f1(6)\n"
   ]
  },
  {
   "cell_type": "markdown",
   "metadata": {},
   "source": [
    "# Wap to check Prime No. or not"
   ]
  },
  {
   "cell_type": "code",
   "execution_count": 3,
   "metadata": {},
   "outputs": [
    {
     "name": "stdout",
     "output_type": "stream",
     "text": [
      "Number is Prime.\n"
     ]
    }
   ],
   "source": [
    "num=int(input(\"Enter a number : \"))\n",
    "i=1\n",
    "k=0\n",
    "while (i<=num):\n",
    "    if (num%i==0):\n",
    "        k=k+1\n",
    "    i=i+1\n",
    "if (k==2):\n",
    "    print(\"Number is Prime.\")\n",
    "else:        \n",
    "    print(\"Number is not Prime.\")"
   ]
  },
  {
   "cell_type": "markdown",
   "metadata": {},
   "source": [
    "# Wap to genrate series of Prime Numbers."
   ]
  },
  {
   "cell_type": "code",
   "execution_count": 5,
   "metadata": {},
   "outputs": [
    {
     "name": "stdout",
     "output_type": "stream",
     "text": [
      "List of Prime No. from 1 to 100\n",
      "2 3 5 7 11 13 17 19 23 29 31 37 41 43 47 53 59 61 67 71 73 79 83 89 97 "
     ]
    }
   ],
   "source": [
    "f=1\n",
    "i=100\n",
    "print(\"List of Prime No. from\",f,\"to\",i)\n",
    "for n in range(f,i+1):\n",
    "    if (n>1):\n",
    "        for j in range(2,n):\n",
    "            if (n%j==0):\n",
    "                break\n",
    "        else:\n",
    "            print(n,end=\" \")"
   ]
  },
  {
   "cell_type": "markdown",
   "metadata": {},
   "source": [
    "# Armstrong Number (153)"
   ]
  },
  {
   "cell_type": "code",
   "execution_count": 2,
   "metadata": {},
   "outputs": [
    {
     "name": "stdout",
     "output_type": "stream",
     "text": [
      "Number is Armstrong.\n"
     ]
    }
   ],
   "source": [
    "num=int(input(\"Enter a 3 digit No. : \"))\n",
    "temp=num\n",
    "sum=0\n",
    "while(num>0):\n",
    "    rem=num%10\n",
    "    sum=sum+(rem*rem*rem)\n",
    "    num=int(num/10)\n",
    "\n",
    "if(temp==sum):\n",
    "    print(\"Number is Armstrong.\")\n",
    "else:\n",
    "    print(\"Number is not Armstrong.\")"
   ]
  },
  {
   "cell_type": "markdown",
   "metadata": {},
   "source": [
    "# Wap to check string palindrome or not (radar,madam,mom,dad,refer)"
   ]
  },
  {
   "cell_type": "code",
   "execution_count": 11,
   "metadata": {},
   "outputs": [
    {
     "name": "stdout",
     "output_type": "stream",
     "text": [
      "The letter is Palindrome.\n"
     ]
    }
   ],
   "source": [
    "s=input(\"Enter a letter : \")\n",
    "if(s==s[::-1]):\n",
    "    print(\"The letter is Palindrome.\")\n",
    "else:\n",
    "    print(\"The letter is not Palindrome.\")"
   ]
  },
  {
   "cell_type": "markdown",
   "metadata": {},
   "source": [
    "# Wap to check  no. is Palindrome or not (121,11,414,74747,1221)"
   ]
  },
  {
   "cell_type": "code",
   "execution_count": 19,
   "metadata": {},
   "outputs": [
    {
     "name": "stdout",
     "output_type": "stream",
     "text": [
      "This number is Palindrome No.\n"
     ]
    }
   ],
   "source": [
    "num=int(input(\"Enter a no. : \"))\n",
    "temp=num\n",
    "rev=0\n",
    "while(num>0):\n",
    "    rem=num%10\n",
    "    rev=(rev*10)+rem\n",
    "    num=num//10\n",
    "if(temp==rev):\n",
    "    print(\"This number is Palindrome No.\")\n",
    "else:\n",
    "    print(\"This number is not Palindrome No.\")"
   ]
  },
  {
   "cell_type": "markdown",
   "metadata": {},
   "source": [
    "# Reverse Number "
   ]
  },
  {
   "cell_type": "code",
   "execution_count": 20,
   "metadata": {},
   "outputs": [
    {
     "name": "stdout",
     "output_type": "stream",
     "text": [
      "Reverse No. is =  54321\n"
     ]
    }
   ],
   "source": [
    "num=int(input(\"Enter a number : \"))\n",
    "rev=0\n",
    "while(num>0):\n",
    "    rem=num%10\n",
    "    rev=(rev*10)+rem\n",
    "    num=num//10\n",
    "print(\"Reverse No. is = \",rev)"
   ]
  },
  {
   "cell_type": "markdown",
   "metadata": {},
   "source": [
    "# Wap to find Factorial of No. to while loop"
   ]
  },
  {
   "cell_type": "code",
   "execution_count": 26,
   "metadata": {},
   "outputs": [
    {
     "name": "stdout",
     "output_type": "stream",
     "text": [
      "Factorial of 5 is. 120\n"
     ]
    }
   ],
   "source": [
    "num=int(input(\"Enter a number : \"))\n",
    "fact=1\n",
    "i=1\n",
    "while (i<=num):\n",
    "    fact=fact*i\n",
    "    i=i+1\n",
    "print(\"Factorial of\",num,\"is\",fact)"
   ]
  },
  {
   "cell_type": "markdown",
   "metadata": {},
   "source": [
    "# Wap to find Factorial of No. to for loop"
   ]
  },
  {
   "cell_type": "code",
   "execution_count": null,
   "metadata": {},
   "outputs": [
    {
     "name": "stdout",
     "output_type": "stream",
     "text": [
      "Factorial of 4 is 24\n"
     ]
    }
   ],
   "source": [
    "num=int(input(\"Enter a number : \"))\n",
    "fact=1\n",
    "for i in range(1,num+1):\n",
    "    fact=fact*i\n",
    "print(\"Factorial of\",num,\"is\",fact)"
   ]
  },
  {
   "cell_type": "markdown",
   "metadata": {},
   "source": [
    "# Wap in python to find factorial of given number using 'Recursion' function."
   ]
  },
  {
   "cell_type": "code",
   "execution_count": 2,
   "metadata": {},
   "outputs": [
    {
     "name": "stdout",
     "output_type": "stream",
     "text": [
      "Factorial of 3 is 6\n"
     ]
    }
   ],
   "source": [
    "\n",
    "def fact(x):\n",
    "    if (x==1):\n",
    "        return (x)\n",
    "    else:\n",
    "        return (x*fact(x-1))\n",
    "x=int(input(\"Enter a number : \"))\n",
    "f=fact(x)\n",
    "print(\"Factorial of\",x,\"is\",f)\n"
   ]
  },
  {
   "cell_type": "markdown",
   "metadata": {},
   "source": [
    "# WAP to create a list of 10 integer number by taking input from user.Now find sum and average of these numbers."
   ]
  },
  {
   "cell_type": "code",
   "execution_count": 5,
   "metadata": {},
   "outputs": [
    {
     "name": "stdout",
     "output_type": "stream",
     "text": [
      "Enter 10 numbers : \n",
      "Sum =  55\n",
      "Average =  5.5\n"
     ]
    }
   ],
   "source": [
    "list=[]\n",
    "sum=0\n",
    "print(\"Enter 10 numbers : \")\n",
    "for i in range(0,10):\n",
    " e=int(input())\n",
    " list.insert(i,e)\n",
    " sum=sum+e\n",
    " avg=sum/10\n",
    "print(\"Sum = \",sum)\n",
    "print(\"Average = \",avg)"
   ]
  },
  {
   "cell_type": "markdown",
   "metadata": {},
   "source": [
    "# wap to create a list. in this store five names of your friends by taking input from user.Now sorts the name of your friends in alphabetical orders and display the names."
   ]
  },
  {
   "cell_type": "code",
   "execution_count": 10,
   "metadata": {},
   "outputs": [
    {
     "name": "stdout",
     "output_type": "stream",
     "text": [
      "Enter 5 names to the list : \n",
      "Names after sorting :\n",
      "Adrash\n",
      "Mayank\n",
      "Naresh\n",
      "Prajjwal\n",
      "Rohit\n"
     ]
    }
   ],
   "source": [
    "print(\"Enter 5 names to the list : \")\n",
    "\n",
    "friends=[]\n",
    "for i in range(0,5):\n",
    "    f=input()\n",
    "    friends.insert(i,f)\n",
    "    friends.sort()\n",
    "print(\"Names after sorting :\")\n",
    "for a in friends:\n",
    "    print(a)"
   ]
  },
  {
   "cell_type": "markdown",
   "metadata": {},
   "source": [
    "# WAP to find LCM of 2 No."
   ]
  },
  {
   "cell_type": "code",
   "execution_count": 32,
   "metadata": {},
   "outputs": [
    {
     "name": "stdout",
     "output_type": "stream",
     "text": [
      "LCM is =  30\n"
     ]
    }
   ],
   "source": [
    "x=int(input(\"Enter a NO. : \")) #x=6\n",
    "y=int(input(\"Enter a NO. : \")) #y=10\n",
    "if(x>y):\n",
    "    max=x\n",
    "else:\n",
    "    max=y\n",
    "for i in range(max,(x*y+1)):\n",
    "    if(i%x==0) and (i%y==0):\n",
    "        print(\"LCM is = \",i)\n",
    "        break\n",
    "\n"
   ]
  },
  {
   "cell_type": "markdown",
   "metadata": {},
   "source": [
    "# WAP to find LCM of list."
   ]
  },
  {
   "cell_type": "code",
   "execution_count": 30,
   "metadata": {},
   "outputs": [
    {
     "name": "stdout",
     "output_type": "stream",
     "text": [
      "LCM is =  28560\n"
     ]
    }
   ],
   "source": [
    "x=[12,14,16,17,8,10]\n",
    "max=x[0]\n",
    "for i in x:\n",
    "    if(i>max):\n",
    "        max=i\n",
    "#print(max)\n",
    "mul=1\n",
    "for i in x:\n",
    "    mul=mul*i\n",
    "#print(mul)\n",
    "for i in range(max,mul+1):\n",
    "    k=0\n",
    "    for j in x:\n",
    "        if(i%j==0):\n",
    "            k=k+1\n",
    "    if(k==len(x)):\n",
    "        print(\"LCM is = \",i)\n",
    "        break\n"
   ]
  },
  {
   "cell_type": "markdown",
   "metadata": {},
   "source": [
    "# Wap to find HCF of 2 No. using LCM"
   ]
  },
  {
   "cell_type": "code",
   "execution_count": 34,
   "metadata": {},
   "outputs": [
    {
     "name": "stdout",
     "output_type": "stream",
     "text": [
      "HCF is =  2.0\n"
     ]
    }
   ],
   "source": [
    "x=int(input(\"Enter a number : \")) #x=10\n",
    "y=int(input(\"Enter a number : \")) #x=12\n",
    "if(x>y):\n",
    "    max=x\n",
    "else:\n",
    "    max=y\n",
    "for i in range(max,(x*y+1)):\n",
    "    if(i%x==0) and (i%y==0):\n",
    "        lcm=i\n",
    "        break\n",
    "hcf=(x*y)/lcm\n",
    "print(\"HCF is = \",hcf)"
   ]
  },
  {
   "cell_type": "markdown",
   "metadata": {},
   "source": [
    "# Wap to find factorial of sum"
   ]
  },
  {
   "cell_type": "code",
   "execution_count": 8,
   "metadata": {},
   "outputs": [
    {
     "data": {
      "text/plain": [
       "55"
      ]
     },
     "execution_count": 8,
     "metadata": {},
     "output_type": "execute_result"
    }
   ],
   "source": [
    "def fact(x):\n",
    "    if(x==1):\n",
    "        return 1\n",
    "    else:\n",
    "        return x+fact(x-1)\n",
    "fact(10)"
   ]
  },
  {
   "cell_type": "markdown",
   "metadata": {},
   "source": [
    "# Wap to print even/odd no. from factorial"
   ]
  },
  {
   "cell_type": "code",
   "execution_count": 12,
   "metadata": {},
   "outputs": [
    {
     "data": {
      "text/plain": [
       "9"
      ]
     },
     "execution_count": 12,
     "metadata": {},
     "output_type": "execute_result"
    }
   ],
   "source": [
    "def F1(x):\n",
    "    if(x==0):\n",
    "        return 0\n",
    "    elif(x==1):\n",
    "        return 1\n",
    "    else:\n",
    "        return x+F1(x-2)\n",
    "F1(5)"
   ]
  },
  {
   "cell_type": "markdown",
   "metadata": {},
   "source": [
    "# Wap to input two number & swap without using third variable."
   ]
  },
  {
   "cell_type": "code",
   "execution_count": 4,
   "metadata": {},
   "outputs": [
    {
     "name": "stdout",
     "output_type": "stream",
     "text": [
      "Value Before swapping:\n",
      "Value of x= 1\n",
      "Value of y= 2\n",
      "Value After swapping:\n",
      "Value of x= 2\n",
      "Value of y= 1\n"
     ]
    }
   ],
   "source": [
    "x=int(input(\"Enter first No: \"))\n",
    "y=int(input(\"Enter second No: \"))\n",
    "\n",
    "print(\"Value Before swapping:\")\n",
    "print(\"Value of x=\",x)\n",
    "print(\"Value of y=\",y)\n",
    "\n",
    "x=x+y\n",
    "y=x-y\n",
    "x=x-y\n",
    "\n",
    "print(\"Value After swapping:\")\n",
    "print(\"Value of x=\",x)\n",
    "print(\"Value of y=\",y)\n"
   ]
  },
  {
   "cell_type": "code",
   "execution_count": null,
   "metadata": {},
   "outputs": [],
   "source": []
  }
 ],
 "metadata": {
  "interpreter": {
   "hash": "2d7dce13f89aaa4090f92f7912dd01f08029a19715b8013175a2ce6ab90d173f"
  },
  "kernelspec": {
   "display_name": "Python 3.8.5 32-bit",
   "language": "python",
   "name": "python3"
  },
  "language_info": {
   "codemirror_mode": {
    "name": "ipython",
    "version": 3
   },
   "file_extension": ".py",
   "mimetype": "text/x-python",
   "name": "python",
   "nbconvert_exporter": "python",
   "pygments_lexer": "ipython3",
   "version": "3.8.5"
  },
  "orig_nbformat": 4
 },
 "nbformat": 4,
 "nbformat_minor": 2
}
