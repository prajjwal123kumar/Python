{
 "cells": [
  {
   "cell_type": "markdown",
   "metadata": {},
   "source": [
    "# Anonymous Function"
   ]
  },
  {
   "cell_type": "markdown",
   "metadata": {},
   "source": [
    "# Lambda"
   ]
  },
  {
   "cell_type": "code",
   "execution_count": 7,
   "metadata": {},
   "outputs": [
    {
     "data": {
      "text/plain": [
       "25"
      ]
     },
     "execution_count": 7,
     "metadata": {},
     "output_type": "execute_result"
    }
   ],
   "source": [
    "# simple function\n",
    "def square(x):\n",
    "    return x*x\n",
    "square(5)"
   ]
  },
  {
   "cell_type": "code",
   "execution_count": 6,
   "metadata": {},
   "outputs": [
    {
     "data": {
      "text/plain": [
       "5"
      ]
     },
     "execution_count": 6,
     "metadata": {},
     "output_type": "execute_result"
    }
   ],
   "source": [
    "# using lambda function\n",
    "a=lambda x,y:x+y\n",
    "a(2,3)"
   ]
  },
  {
   "cell_type": "code",
   "execution_count": 11,
   "metadata": {},
   "outputs": [
    {
     "data": {
      "text/plain": [
       "4"
      ]
     },
     "execution_count": 11,
     "metadata": {},
     "output_type": "execute_result"
    }
   ],
   "source": [
    "# a=lambda x:x**2\n",
    "# a(4)\n",
    "a=lambda x:x*x\n",
    "a(2)"
   ]
  },
  {
   "cell_type": "code",
   "execution_count": 12,
   "metadata": {},
   "outputs": [
    {
     "data": {
      "text/plain": [
       "8"
      ]
     },
     "execution_count": 12,
     "metadata": {},
     "output_type": "execute_result"
    }
   ],
   "source": [
    "#a=lambda x:x**3\n",
    "#a(5)\n",
    "a=lambda x:x*x*x\n",
    "a(2)"
   ]
  },
  {
   "cell_type": "markdown",
   "metadata": {},
   "source": [
    "# Filter function"
   ]
  },
  {
   "cell_type": "code",
   "execution_count": 14,
   "metadata": {},
   "outputs": [
    {
     "data": {
      "text/plain": [
       "[13, 23, 7]"
      ]
     },
     "execution_count": 14,
     "metadata": {},
     "output_type": "execute_result"
    }
   ],
   "source": [
    "# simple function\n",
    "age=[13,89,72,23,7,90]\n",
    "def adults(age):\n",
    "    if age<60:\n",
    "        return True\n",
    "    else:\n",
    "        return False\n",
    "x=list(filter(adults,age))\n",
    "x\n"
   ]
  },
  {
   "cell_type": "code",
   "execution_count": 27,
   "metadata": {},
   "outputs": [
    {
     "name": "stdout",
     "output_type": "stream",
     "text": [
      "Odd no. is  1\n",
      "Even no. is  2\n",
      "Odd no. is  3\n",
      "Even no. is  4\n",
      "Odd no. is  5\n",
      "Even no. is  6\n",
      "Odd no. is  7\n",
      "Even no. is  8\n",
      "Odd no. is  9\n",
      "Even no. is  10\n"
     ]
    },
    {
     "data": {
      "text/plain": [
       "[]"
      ]
     },
     "execution_count": 27,
     "metadata": {},
     "output_type": "execute_result"
    }
   ],
   "source": [
    "# Using simple function wap to find odd and even number using filter function \n",
    "a=[1,2,3,4,5,6,7,8,9,10]\n",
    "def oddEven(a):\n",
    "    if a%2==0:\n",
    "        print(\"Even no. is \",a)\n",
    "    else:\n",
    "        print(\"Odd no. is \",a)\n",
    "x=list(filter(oddEven,a))\n",
    "#x\n",
    "x"
   ]
  },
  {
   "cell_type": "code",
   "execution_count": 26,
   "metadata": {},
   "outputs": [
    {
     "data": {
      "text/plain": [
       "[2, 4, 6, 8, 10]"
      ]
     },
     "execution_count": 26,
     "metadata": {},
     "output_type": "execute_result"
    }
   ],
   "source": [
    "# Using simple function wap to find odd and even number using filter function \n",
    "a=[1,2,3,4,5,6,7,8,9,10]\n",
    "def oddEven(a):\n",
    "    if a%2==0:\n",
    "        return True\n",
    "    else:\n",
    "        return False\n",
    "x=list(filter(oddEven,a))\n",
    "x"
   ]
  },
  {
   "cell_type": "code",
   "execution_count": 30,
   "metadata": {},
   "outputs": [
    {
     "data": {
      "text/plain": [
       "[13, 23, 7]"
      ]
     },
     "execution_count": 30,
     "metadata": {},
     "output_type": "execute_result"
    }
   ],
   "source": [
    "a=[13,89,67,72,23,7,98]\n",
    "x= list(filter (lambda a:a<60,a))\n",
    "x"
   ]
  },
  {
   "cell_type": "markdown",
   "metadata": {},
   "source": [
    "# map() Function"
   ]
  },
  {
   "cell_type": "code",
   "execution_count": 2,
   "metadata": {},
   "outputs": [
    {
     "data": {
      "text/plain": [
       "[2, 4, 6, 8, 9, 11, 13, 14, 16]"
      ]
     },
     "execution_count": 2,
     "metadata": {},
     "output_type": "execute_result"
    }
   ],
   "source": [
    "a=[1,3,5,7,8,10,12,13,15]\n",
    "y=list(map(lambda x:x+1,a))\n",
    "y"
   ]
  },
  {
   "cell_type": "code",
   "execution_count": 4,
   "metadata": {},
   "outputs": [
    {
     "data": {
      "text/plain": [
       "[4, 6, 8, 10, 11, 13, 15, 16, 18]"
      ]
     },
     "execution_count": 4,
     "metadata": {},
     "output_type": "execute_result"
    }
   ],
   "source": [
    "def F1(m):\n",
    "    return m+3\n",
    "y=list(map(lambda x:x+3,a))\n",
    "y"
   ]
  },
  {
   "cell_type": "code",
   "execution_count": 5,
   "metadata": {},
   "outputs": [
    {
     "data": {
      "text/plain": [
       "[False, False, False, False, True, True, True, False, False]"
      ]
     },
     "execution_count": 5,
     "metadata": {},
     "output_type": "execute_result"
    }
   ],
   "source": [
    "y=list(map(lambda x:x%2==0,a))\n",
    "y"
   ]
  },
  {
   "cell_type": "code",
   "execution_count": 8,
   "metadata": {},
   "outputs": [
    {
     "name": "stdout",
     "output_type": "stream",
     "text": [
      "Area of Circle= 28.259999999999998\n",
      "Perimeter of Circle= 31.400000000000002\n"
     ]
    }
   ],
   "source": [
    "# Find the area & perimeter of circle with the help of lambda function\n",
    "area=lambda r:(3.14*r*r)\n",
    "print(\"Area of Circle=\",area(3))\n",
    "peri=lambda p:2*3.14*p\n",
    "print(\"Perimeter of Circle=\",peri(5))"
   ]
  },
  {
   "cell_type": "code",
   "execution_count": 11,
   "metadata": {},
   "outputs": [
    {
     "name": "stdout",
     "output_type": "stream",
     "text": [
      "Profit of = 32\n",
      "Loss or Profit % = 160.0\n"
     ]
    }
   ],
   "source": [
    "# Find the profit or less on a certain item which was bought 20 Rs. but sell 52 Rs. find the loss or profit percent as well with help of lambda function\n",
    "# cp sp(high)-----profit\n",
    "cp=20\n",
    "sp=52\n",
    "profit_or_loss=sp-cp\n",
    "print(\"Profit of =\",profit_or_loss)\n",
    "#profit %=((sp-cp)/cp)*100\n",
    "profit_per=lambda profit:(profit/cp)*100\n",
    "print(\"Loss or Profit % =\",profit_per(profit_or_loss))"
   ]
  },
  {
   "cell_type": "code",
   "execution_count": 12,
   "metadata": {},
   "outputs": [
    {
     "data": {
      "text/plain": [
       "[22, 45, 12]"
      ]
     },
     "execution_count": 12,
     "metadata": {},
     "output_type": "execute_result"
    }
   ],
   "source": [
    "# Filter out the data where the data is lower than 75.\n",
    "a=[22,45,78,89,90,12]\n",
    "def hit(a):\n",
    "    if a<75:\n",
    "        return True\n",
    "    else:\n",
    "        return False\n",
    "x=list(filter(hit,a))\n",
    "x"
   ]
  },
  {
   "cell_type": "code",
   "execution_count": 13,
   "metadata": {},
   "outputs": [
    {
     "data": {
      "text/plain": [
       "[78, 89, 90]"
      ]
     },
     "execution_count": 13,
     "metadata": {},
     "output_type": "execute_result"
    }
   ],
   "source": [
    "# Filter out the data where the data is Greater than 75.\n",
    "s=[22,45,78,89,90,12]\n",
    "a=lambda x:x>75\n",
    "list(filter(a,s))"
   ]
  }
 ],
 "metadata": {
  "interpreter": {
   "hash": "2d7dce13f89aaa4090f92f7912dd01f08029a19715b8013175a2ce6ab90d173f"
  },
  "kernelspec": {
   "display_name": "Python 3.8.5 32-bit",
   "language": "python",
   "name": "python3"
  },
  "language_info": {
   "codemirror_mode": {
    "name": "ipython",
    "version": 3
   },
   "file_extension": ".py",
   "mimetype": "text/x-python",
   "name": "python",
   "nbconvert_exporter": "python",
   "pygments_lexer": "ipython3",
   "version": "3.8.5"
  },
  "orig_nbformat": 4
 },
 "nbformat": 4,
 "nbformat_minor": 2
}
