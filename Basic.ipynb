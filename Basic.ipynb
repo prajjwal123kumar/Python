{
 "cells": [
  {
   "cell_type": "markdown",
   "metadata": {},
   "source": [
    "# Basic Python"
   ]
  },
  {
   "cell_type": "markdown",
   "metadata": {},
   "source": [
    "# Data Type in Python\n",
    "\n",
    "# 1. Int\n",
    "# 2. String \n",
    "# 3. Float\n",
    "# 4. Boolean"
   ]
  },
  {
   "cell_type": "code",
   "execution_count": 13,
   "metadata": {},
   "outputs": [
    {
     "name": "stdout",
     "output_type": "stream",
     "text": [
      "-200\n",
      "<class 'int'>\n"
     ]
    }
   ],
   "source": [
    "# Int\n",
    "a=-200\n",
    "print(a)\n",
    "print(type(a))"
   ]
  },
  {
   "cell_type": "code",
   "execution_count": 9,
   "metadata": {},
   "outputs": [
    {
     "name": "stdout",
     "output_type": "stream",
     "text": [
      "10101\n",
      "<class 'int'>\n"
     ]
    }
   ],
   "source": [
    "\n",
    "a=10101\n",
    "print(a)\n",
    "print(type(a))"
   ]
  },
  {
   "cell_type": "code",
   "execution_count": 4,
   "metadata": {},
   "outputs": [
    {
     "name": "stdout",
     "output_type": "stream",
     "text": [
      "25752175\n",
      "<class 'str'>\n"
     ]
    }
   ],
   "source": [
    "# String\n",
    "a=\"25752175\"\n",
    "print(a)\n",
    "print(type(a))"
   ]
  },
  {
   "cell_type": "code",
   "execution_count": 8,
   "metadata": {},
   "outputs": [
    {
     "name": "stdout",
     "output_type": "stream",
     "text": [
      "-10.4\n",
      "<class 'float'>\n"
     ]
    }
   ],
   "source": [
    "# Float\n",
    "a=-10.4\n",
    "print(a)\n",
    "print(type(a))"
   ]
  },
  {
   "cell_type": "code",
   "execution_count": 10,
   "metadata": {},
   "outputs": [
    {
     "name": "stdout",
     "output_type": "stream",
     "text": [
      "(10+2j)\n",
      "<class 'complex'>\n"
     ]
    }
   ],
   "source": [
    "# Complex\n",
    "a=10+2j\n",
    "print(a)\n",
    "print(type(a))"
   ]
  },
  {
   "cell_type": "markdown",
   "metadata": {},
   "source": [
    "# Operator in Python\n",
    "# 1. Assignment\n",
    "# 2. Airthmetic\n",
    "# 3. Logical\n",
    "# 4. Conditional"
   ]
  },
  {
   "cell_type": "code",
   "execution_count": 30,
   "metadata": {},
   "outputs": [
    {
     "name": "stdout",
     "output_type": "stream",
     "text": [
      "10\n",
      "10\n",
      "1\n",
      "1\n"
     ]
    }
   ],
   "source": [
    "# Assignment operator[=,==]\n",
    "a=10\n",
    "print(a)\n",
    "a==10\n",
    "print(a)\n",
    "a=1\n",
    "a==10\n",
    "print(a)\n",
    "print(a)"
   ]
  },
  {
   "cell_type": "code",
   "execution_count": 31,
   "metadata": {},
   "outputs": [
    {
     "name": "stdout",
     "output_type": "stream",
     "text": [
      "True\n",
      "True\n",
      "True\n",
      "True\n",
      "False\n",
      "True\n",
      "True\n",
      "False\n"
     ]
    }
   ],
   "source": [
    "# Comparision operator[<,>,!=,==,<=,>=]\n",
    "a=10\n",
    "b=90\n",
    "print(a<b)\n",
    "\n",
    "a=100\n",
    "b=90\n",
    "print(a>b)\n",
    "\n",
    "a=100\n",
    "b=90\n",
    "print(a>=b)\n",
    "\n",
    "a=10\n",
    "b=10\n",
    "print(a>=b)\n",
    "\n",
    "a=10\n",
    "b=1\n",
    "print(a==b)\n",
    "\n",
    "x=10\n",
    "y=10\n",
    "print(x==y)\n",
    "\n",
    "x=10\n",
    "y=1\n",
    "print(x!=y)\n",
    "\n",
    "x=10\n",
    "y=10\n",
    "print(x!=y)"
   ]
  },
  {
   "cell_type": "code",
   "execution_count": 34,
   "metadata": {},
   "outputs": [
    {
     "name": "stdout",
     "output_type": "stream",
     "text": [
      "11\n",
      "1\n",
      "-1\n",
      "6\n",
      "2.0\n",
      "0.5\n",
      "0.005\n"
     ]
    }
   ],
   "source": [
    "# Airthimetic operator[+,-,*,/]\n",
    "\n",
    "a=1\n",
    "b=10\n",
    "print(a+b)\n",
    "\n",
    "print(3-2)\n",
    "print(1-2)\n",
    "print(2*3)\n",
    "print(4/2)\n",
    "print(2/4)\n",
    "print(2/400)"
   ]
  },
  {
   "cell_type": "markdown",
   "metadata": {},
   "source": [
    "# User input=> Use input()\n",
    "# input()=> It is support By default String\n",
    "# For Typecasting =int(input())\n"
   ]
  },
  {
   "cell_type": "code",
   "execution_count": 37,
   "metadata": {},
   "outputs": [
    {
     "name": "stdout",
     "output_type": "stream",
     "text": [
      "good\n"
     ]
    }
   ],
   "source": [
    "e=input(\"Hello sir kaise ho app.\")\n",
    "print(e)\n",
    "\n"
   ]
  },
  {
   "cell_type": "code",
   "execution_count": 44,
   "metadata": {},
   "outputs": [
    {
     "name": "stdout",
     "output_type": "stream",
     "text": [
      "30\n"
     ]
    }
   ],
   "source": [
    "a=int(input(\"Enter a number = \"))\n",
    "b=int(input(\"Enter a number = \"))\n",
    "c=a+b\n",
    "print(c)"
   ]
  },
  {
   "cell_type": "code",
   "execution_count": 45,
   "metadata": {},
   "outputs": [
    {
     "name": "stdout",
     "output_type": "stream",
     "text": [
      "Addition = 12\n",
      "Substraction = 12\n",
      "Multiplication = 12\n",
      "Division = 5.0\n"
     ]
    }
   ],
   "source": [
    "# Wap to take input from user & (+,-,*,/)\n",
    "x=int(input(\"Enter First number :\"))\n",
    "y=int(input(\"Enter Second number :\"))\n",
    "a=x+y\n",
    "b=x+y\n",
    "c=x+y\n",
    "d=x/y\n",
    "print(\"Addition =\",a)\n",
    "print(\"Substraction =\",b)\n",
    "print(\"Multiplication =\",c)\n",
    "print(\"Division =\",d)"
   ]
  },
  {
   "cell_type": "code",
   "execution_count": 43,
   "metadata": {},
   "outputs": [
    {
     "name": "stdout",
     "output_type": "stream",
     "text": [
      "15\n"
     ]
    }
   ],
   "source": [
    "a=[]\n",
    "sum=0\n",
    "x=int(input(\"how many number you want enter\"))\n",
    "for i in range(0,x):\n",
    "    b=input(\"\")\n",
    "    a.insert(i,b)\n",
    "    sum=sum+int(b)\n",
    "print(sum)"
   ]
  },
  {
   "cell_type": "code",
   "execution_count": 6,
   "metadata": {},
   "outputs": [
    {
     "data": {
      "text/plain": [
       "4"
      ]
     },
     "execution_count": 6,
     "metadata": {},
     "output_type": "execute_result"
    }
   ],
   "source": [
    "4"
   ]
  },
  {
   "cell_type": "code",
   "execution_count": 42,
   "metadata": {},
   "outputs": [
    {
     "name": "stdout",
     "output_type": "stream",
     "text": [
      "36\n"
     ]
    }
   ],
   "source": [
    "x=input(\"enter number\")\n",
    "y=x.split(\",\")\n",
    "sum=0\n",
    "for i in y:\n",
    "    sum=sum+int(i)\n",
    "print(sum)"
   ]
  },
  {
   "cell_type": "code",
   "execution_count": 40,
   "metadata": {},
   "outputs": [
    {
     "name": "stdout",
     "output_type": "stream",
     "text": [
      "<class 'str'>\n"
     ]
    }
   ],
   "source": [
    "x=input(\"enter name\")\n",
    "y=x.split(\",\")\n",
    "print(type(x))"
   ]
  },
  {
   "cell_type": "code",
   "execution_count": 41,
   "metadata": {},
   "outputs": [
    {
     "name": "stdout",
     "output_type": "stream",
     "text": [
      "a b c d e f\n"
     ]
    }
   ],
   "source": [
    "for i in y:\n",
    "    print(i)"
   ]
  },
  {
   "cell_type": "code",
   "execution_count": 39,
   "metadata": {},
   "outputs": [
    {
     "name": "stdout",
     "output_type": "stream",
     "text": [
      "a= a b= b c= c\n"
     ]
    }
   ],
   "source": [
    "a,b,c=input(\"enter three number\").split(\" \")\n",
    "print(\"a=\",a,\"b=\",b,\"c=\",c,end=\"\\n\")"
   ]
  },
  {
   "cell_type": "code",
   "execution_count": null,
   "metadata": {},
   "outputs": [],
   "source": []
  }
 ],
 "metadata": {
  "interpreter": {
   "hash": "2d7dce13f89aaa4090f92f7912dd01f08029a19715b8013175a2ce6ab90d173f"
  },
  "kernelspec": {
   "display_name": "Python 3.8.5 32-bit",
   "language": "python",
   "name": "python3"
  },
  "language_info": {
   "codemirror_mode": {
    "name": "ipython",
    "version": 3
   },
   "file_extension": ".py",
   "mimetype": "text/x-python",
   "name": "python",
   "nbconvert_exporter": "python",
   "pygments_lexer": "ipython3",
   "version": "3.8.5"
  },
  "orig_nbformat": 4
 },
 "nbformat": 4,
 "nbformat_minor": 2
}
